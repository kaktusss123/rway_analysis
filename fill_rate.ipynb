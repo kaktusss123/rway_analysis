{
 "cells": [
  {
   "cell_type": "markdown",
   "metadata": {},
   "source": [
    "# Подключение"
   ]
  },
  {
   "cell_type": "code",
   "execution_count": null,
   "metadata": {},
   "outputs": [],
   "source": [
    "import pyodbc"
   ]
  },
  {
   "cell_type": "code",
   "execution_count": null,
   "metadata": {},
   "outputs": [],
   "source": [
    "conn = pyodbc.connect('DRIVER={SQL Server};SERVER=10.199.13.60;DATABASE=rway;UID=vkomarnitskii;PWD=Rway1')\n",
    "cursor = conn.cursor()"
   ]
  },
  {
   "cell_type": "markdown",
   "metadata": {},
   "source": [
    "## Pandas"
   ]
  },
  {
   "cell_type": "code",
   "execution_count": null,
   "metadata": {},
   "outputs": [],
   "source": [
    "import pandas as pd\n",
    "from math import isnan"
   ]
  },
  {
   "cell_type": "markdown",
   "metadata": {},
   "source": [
    "Тут можно установить параметры отображения для pandas. Сколько показывать строк и столбцов соответственно."
   ]
  },
  {
   "cell_type": "code",
   "execution_count": null,
   "metadata": {},
   "outputs": [],
   "source": [
    "pd.options.display.max_rows = 10\n",
    "pd.options.display.max_columns = 150"
   ]
  },
  {
   "cell_type": "markdown",
   "metadata": {},
   "source": [
    "## Необходимые функции"
   ]
  },
  {
   "cell_type": "markdown",
   "metadata": {},
   "source": [
    "Позволяет получить список характеристик для всех предложений, указанных в list_of_keys. Предложения указываются в виде строки `hex` в верхнем регистре, первыми символами которой являются `0x`.\n",
    "\n",
    "Преобразование из байтов в такую строку делается следующим образом:\n",
    "```python\n",
    "# type(x) == bytes\n",
    "result = '0x' + x.hex().upper()\n",
    "```"
   ]
  },
  {
   "cell_type": "code",
   "execution_count": null,
   "metadata": {},
   "outputs": [],
   "source": [
    "def get_harks_by_object_keys(list_of_keys):\n",
    "    \"\"\"\n",
    "    :param list_of_keys: список hex в виде '0x869CEA7372E...'\n",
    "    :type list_of_keys: list\n",
    "    :return: DataFrame, в котором указаны характеристики и их значения для всех объектов из list_of_keys\n",
    "    \"\"\"\n",
    "    \n",
    "    in_expr = f'({\", \".join(list_of_keys)})'\n",
    "    query = '''\n",
    "    SELECT\n",
    "          t_har.Наименование,\n",
    "          CASE \n",
    "              WHEN t.Значение_Тип = 04 THEN CAST(t.Значение_Дата AS varchar)\n",
    "              WHEN t.Значение_Тип = 03 THEN CAST(t.Значение_Число AS varchar)\n",
    "              WHEN t.Значение_Тип = 05 THEN t.Значение_Строка\n",
    "              WHEN t.Значение_Тип = 01 THEN \n",
    "              CASE\n",
    "                  WHEN t.Значение = 0x869CEA7372E5CA3E468F18025D610C0B THEN 'Да'\n",
    "                  WHEN t.Значение = 0xB0CD188371B9A88E431B073454A9489F THEN 'Нет'\n",
    "                  ELSE 'НетДанных'\n",
    "              END\n",
    "              WHEN t.Значение_Тип = 08 THEN \n",
    "              COALESCE(\n",
    "                  (SELECT Наименование FROM [rway].[Справочник].[ДополнительныеЗначенияХарактеристик] t_dop WHERE t_dop.Ссылка = t.Значение),\n",
    "                  (SELECT Наименование FROM [rway].[Справочник].[ТипыОбъектовНедвижимости] t_types WHERE t_types.Ссылка = t.Значение),\n",
    "                  (SELECT Наименование FROM [rway].[Перечисление].[ТипыСделки] t_types_1 WHERE t_types_1.Ссылка = t.Значение),\n",
    "                  (SELECT Наименование FROM [rway].[Перечисление].[ЛогическиеЗначения] t_logic WHERE t_logic.Ссылка = t.Значение),\n",
    "                  (SELECT Наименование FROM [rway].[Перечисление].[ТипыВерифицированности] t_verif WHERE t_verif.Ссылка = t.Значение),\n",
    "                  (SELECT Наименование FROM [rway].[Справочник].[ПодСегменты] t_podseg WHERE t_podseg.Ссылка = t.Значение),\n",
    "                  (SELECT Наименование FROM [rway].[Справочник].[Застройщики] t_zastr WHERE t_zastr.Ссылка = t.Значение),\n",
    "                  (SELECT Наименование FROM [rway].[Справочник].[ОстановкиОбщественногоТранспорта] t_stations WHERE t_stations.Ссылка = t.Значение)                  \n",
    "              )\n",
    "          END\n",
    "              AS Значение,\n",
    "          t.Объект\n",
    "    FROM [rway].[РегистрСведений].[ЗначенияХарактеристик] t\n",
    "        JOIN [rway].[ПВХ].[Характеристики] t_har\n",
    "            ON t_har.[Ссылка] = t.[Характеристика]\n",
    "    WHERE Объект in {}\n",
    "    '''.format(in_expr)\n",
    "    \n",
    "    cursor.execute(query)\n",
    "    \n",
    "    # Преобразование данных, которые вернул запрос в список списков, одновременно все байты преобразуются в hex\n",
    "    data = list(map(lambda x: list(map(lambda y: '0x' + y.hex().upper() if type(y) == bytes else y, x)), cursor.fetchall()))\n",
    "    # Создание словаря для DataFrame\n",
    "    d = [dict(map(lambda x: x[:2], filter(lambda y: y[-1] == offer_id, data)), **{'Ссылка': offer_id}) for offer_id in list_of_keys]\n",
    "    df = pd.DataFrame(d)\n",
    "    return df\n",
    "\n",
    "    "
   ]
  },
  {
   "cell_type": "markdown",
   "metadata": {},
   "source": [
    "Функция позволяет получить все предложения по конкретной задаче. Задача указывается в виде строки `hex` в верхнем регистре, первыми символами которой являются `0x`."
   ]
  },
  {
   "cell_type": "code",
   "execution_count": null,
   "metadata": {},
   "outputs": [],
   "source": [
    "def get_base_info_by_task_id(task_id, offers_count=None):\n",
    "    \"\"\"\n",
    "    :param task_id: Является полем \"Ссылка\" из таблицы, преобразованным из байтов в hex\n",
    "    :param offers_count: Количество предложений для выбора из базы (пустое для выбора всех предложений)\n",
    "    :type task_id: str\n",
    "    :return: DataFrame, содержащий все поля, которые можно получить из таблицы \"ПредложенияЗадач\"\n",
    "    \"\"\"\n",
    "    \n",
    "    top = '' if not offers_count else 'TOP {}'.format(offers_count)\n",
    "    query = '''\n",
    "    SELECT {}\n",
    "          Код,\n",
    "          Ссылка,\n",
    "          АдресAhunter,\n",
    "          АктуальнаяСсылкаИсточника,\n",
    "          ДатаПересмотраЭкспозиции,\n",
    "          ДатаПроверкиАктуальности,\n",
    "          ДатаРазмещения,\n",
    "          Город,\n",
    "          Описание,\n",
    "          (SELECT Наименование FROM [rway].[Справочник].[Подсегменты] WHERE Ссылка = t.Подсегмент) AS Подсегмент,\n",
    "          (SELECT Наименование FROM [rway].[Справочник].[Сегменты] WHERE Ссылка = t.Сегмент) AS Сегмент,\n",
    "          (SELECT Наименование FROM [rway].[Справочник].[СубъектыРФ] WHERE Ссылка = t.Субъект) AS Субъект,\n",
    "          СсылкаИсточника,\n",
    "          (SELECT Значение FROM [rway].[Перечисление].[ТипыРынка] WHERE Ссылка = t.ТипРынка) AS ТипРынка,\n",
    "          (SELECT Значение FROM [rway].[Перечисление].[ТипыСделки] WHERE Ссылка = t.ТипСделки) AS ТипСделки\n",
    "    FROM [rway].[Справочник].[ПредложенияОбъектовНедвижимости] t\n",
    "        JOIN [rway].[РегистрСведений].[ПредложенияЗадач] t_offer\n",
    "            ON Ссылка = t_offer.[Предложение]\n",
    "        JOIN [rway].[dbo].[_Task62] t_task\n",
    "            ON t_task.[_IDRRef] = t_offer.[Задача] AND t_task.[_IDRRef] = (SELECT _IDRRef FROM [rway].[dbo].[_Task62] WHERE _FLD198 = '{}')\n",
    "\n",
    "    '''.format(top, task_id)\n",
    "    \n",
    "    cursor.execute(query)\n",
    "    data = cursor.fetchall()\n",
    "    # Те же самые преобрзования, как в функции с характеристиками\n",
    "    df = pd.DataFrame(map(lambda x: list(map(lambda y: '0x' + y.hex().upper() if type(y) == bytes else y, x)), data))\n",
    "    df.columns = list(map(lambda x: x[0], cursor.description))\n",
    "    return df\n",
    "    "
   ]
  },
  {
   "cell_type": "markdown",
   "metadata": {},
   "source": [
    "# Боевой запуск"
   ]
  },
  {
   "cell_type": "code",
   "execution_count": null,
   "metadata": {
    "scrolled": true
   },
   "outputs": [],
   "source": [
    "# Сбор основных данных из \"ПредложенияОбъектовНедвижимости\"\n",
    "base_df = get_base_info_by_task_id('0001-0402-0001', offers_count=10000)"
   ]
  },
  {
   "cell_type": "code",
   "execution_count": null,
   "metadata": {},
   "outputs": [],
   "source": [
    "base_df"
   ]
  },
  {
   "cell_type": "code",
   "execution_count": null,
   "metadata": {},
   "outputs": [],
   "source": [
    "# Сбор характеристик по ссылкам из основного DataFrame base_df\n",
    "har_df = get_harks_by_object_keys(list(base_df.loc[:, 'Ссылка']))"
   ]
  },
  {
   "cell_type": "code",
   "execution_count": null,
   "metadata": {},
   "outputs": [],
   "source": [
    "# Собираем обе таблицы в одну большую\n",
    "result_df = pd.merge(base_df, har_df, on='Ссылка', how='outer')"
   ]
  },
  {
   "cell_type": "code",
   "execution_count": null,
   "metadata": {},
   "outputs": [],
   "source": [
    "result_df"
   ]
  },
  {
   "cell_type": "markdown",
   "metadata": {},
   "source": [
    "Функция, в которой и происходит тестирование."
   ]
  },
  {
   "cell_type": "code",
   "execution_count": null,
   "metadata": {
    "scrolled": true
   },
   "outputs": [],
   "source": [
    "def make_test():\n",
    "    \"\"\"\n",
    "    :return: DataFrame, сшитый из основных характеристик и всех остальных\n",
    "    \"\"\"\n",
    "    test_df = pd.DataFrame(index=result_df.columns)\n",
    "    test_df['Рейтинг заполненности'] = [0] * len(test_df)\n",
    "    test_df['Заполнено'] = [0] * len(test_df)\n",
    "    test_df['Всего'] = [len(result_df)] * len(test_df)\n",
    "    \n",
    "    float_null = '0.000000'\n",
    "    nan = str(float('nan'))\n",
    "    \n",
    "    for row in result_df:\n",
    "        for cell in result_df.loc[:, row]:\n",
    "            if cell and not cell == float_null and cell != nan and cell != 'НетДанных':  # Проверка на неподходящие значения\n",
    "                test_df.loc[row, 'Заполнено'] += 1\n",
    "                \n",
    "    for row in test_df.iterrows():\n",
    "        test_df.loc[row[0], 'Рейтинг заполненности'] = str(row[1]['Заполнено'] * 100 // row[1]['Всего']) + '%'\n",
    "        \n",
    "    return test_df"
   ]
  },
  {
   "cell_type": "code",
   "execution_count": null,
   "metadata": {},
   "outputs": [],
   "source": [
    "test = make_test()"
   ]
  },
  {
   "cell_type": "markdown",
   "metadata": {},
   "source": [
    "Выгрузка данных в `csv` файл для удобного просмотра в Excel"
   ]
  },
  {
   "cell_type": "code",
   "execution_count": null,
   "metadata": {},
   "outputs": [],
   "source": [
    "test.to_csv('test_result.csv', header=list(test.columns), encoding='cp1251', sep=';')\n",
    "test"
   ]
  },
  {
   "cell_type": "markdown",
   "metadata": {},
   "source": [
    "## Для тестов\n"
   ]
  },
  {
   "cell_type": "code",
   "execution_count": null,
   "metadata": {},
   "outputs": [],
   "source": [
    "query = '''\n",
    "SELECT\n",
    "      _IDRRef\n",
    "FROM [rway].[dbo].[_Task62] \n",
    "WHERE _FLD198 = '0001-0402-0001'\n",
    "\n",
    "\n",
    "'''\n",
    "\n",
    "cursor.execute(query)\n",
    "data = cursor.fetchall()\n",
    "df = pd.DataFrame(map(lambda x: list(map(lambda y: '0x' + y.hex().upper() if type(y) == bytes else y, x)), data))\n",
    "df.columns = list(map(lambda x: x[0], cursor.description))\n",
    "df"
   ]
  }
 ],
 "metadata": {
  "kernelspec": {
   "display_name": "Python 3",
   "language": "python",
   "name": "python3"
  },
  "language_info": {
   "codemirror_mode": {
    "name": "ipython",
    "version": 3
   },
   "file_extension": ".py",
   "mimetype": "text/x-python",
   "name": "python",
   "nbconvert_exporter": "python",
   "pygments_lexer": "ipython3",
   "version": "3.7.3"
  }
 },
 "nbformat": 4,
 "nbformat_minor": 2
}
