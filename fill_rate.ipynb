{
 "cells": [
  {
   "cell_type": "markdown",
   "metadata": {},
   "source": [
    "# Подключение"
   ]
  },
  {
   "cell_type": "code",
   "execution_count": 1,
   "metadata": {},
   "outputs": [],
   "source": [
    "import pyodbc"
   ]
  },
  {
   "cell_type": "code",
   "execution_count": 2,
   "metadata": {},
   "outputs": [],
   "source": [
    "conn = pyodbc.connect('DRIVER={SQL Server};SERVER=10.199.13.60;DATABASE=rway;UID=vkomarnitskii;PWD=Rway1')\n",
    "cursor = conn.cursor()\n"
   ]
  },
  {
   "cell_type": "markdown",
   "metadata": {},
   "source": [
    "## Pandas"
   ]
  },
  {
   "cell_type": "code",
   "execution_count": 3,
   "metadata": {},
   "outputs": [],
   "source": [
    "import pandas as pd\n",
    "from math import isnan\n",
    "from numpy import float64\n",
    "from pprint import pprint"
   ]
  },
  {
   "cell_type": "markdown",
   "metadata": {},
   "source": [
    "Тут можно установить параметры отображения для pandas. Сколько показывать строк и столбцов соответственно."
   ]
  },
  {
   "cell_type": "code",
   "execution_count": 4,
   "metadata": {},
   "outputs": [],
   "source": [
    "pd.options.display.max_rows = 100\n",
    "pd.options.display.max_columns = 150"
   ]
  },
  {
   "cell_type": "markdown",
   "metadata": {},
   "source": [
    "### Отладка\n"
   ]
  },
  {
   "cell_type": "code",
   "execution_count": 5,
   "metadata": {},
   "outputs": [],
   "source": [
    "def benchmark(func):\n",
    "    \"\"\"\n",
    "    Декоратор, выводящий время, которое заняло\n",
    "    выполнение декорируемой функции\n",
    "    \"\"\"\n",
    "    import time\n",
    "    \n",
    "    def wrapper(*args, **kwargs):\n",
    "        t = time.time()\n",
    "        res = func(*args, **kwargs)\n",
    "        print(f'{func.__name__} выполнилась за время {time.time() - t:.2f}s')\n",
    "        return res\n",
    "    \n",
    "    return wrapper"
   ]
  },
  {
   "cell_type": "markdown",
   "metadata": {},
   "source": [
    "## Необходимые функции"
   ]
  },
  {
   "cell_type": "markdown",
   "metadata": {},
   "source": [
    "Позволяет получить список характеристик для всех предложений из задачи `task_id`. "
   ]
  },
  {
   "cell_type": "code",
   "execution_count": 6,
   "metadata": {},
   "outputs": [],
   "source": [
    "@benchmark\n",
    "def get_harks_by_object_keys(task_id):\n",
    "    \"\"\"\n",
    "    Позволяет получить список характеристик для всех предложений из задачи task_id. \n",
    "    :param task_id: id задачи\n",
    "    :type task_id: str\n",
    "    :return: DataFrame, в котором указаны характеристики и их значения для всех объектов из задачи task_id\n",
    "    \"\"\"\n",
    "    \n",
    "#     in_expr = f'({\", \".join(list_of_keys)})'\n",
    "    query = '''\n",
    "    SELECT\n",
    "    t_har.Наименование,\n",
    "    CASE \n",
    "        WHEN t.Значение_Тип = 04 THEN CAST(t.Значение_Дата AS varchar)\n",
    "        WHEN t.Значение_Тип = 03 THEN CAST(t.Значение_Число AS varchar)\n",
    "        WHEN t.Значение_Тип = 05 THEN t.Значение_Строка\n",
    "        WHEN t.Значение_Тип = 08 THEN \n",
    "        COALESCE(\n",
    "            (SELECT Наименование FROM [rway].[Справочник].[ДополнительныеЗначенияХарактеристик] t_dop WHERE t_dop.Ссылка = t.Значение),\n",
    "            (SELECT Наименование FROM [rway].[Справочник].[ТипыОбъектовНедвижимости] t_types WHERE t_types.Ссылка = t.Значение),\n",
    "            (SELECT Наименование FROM [rway].[Перечисление].[ТипыСделки] t_types_1 WHERE t_types_1.Ссылка = t.Значение),\n",
    "            (SELECT Наименование FROM [rway].[Перечисление].[ЛогическиеЗначения] t_logic WHERE t_logic.Ссылка = t.Значение),\n",
    "            (SELECT Наименование FROM [rway].[Перечисление].[ТипыВерифицированности] t_verif WHERE t_verif.Ссылка = t.Значение),\n",
    "            (SELECT Наименование FROM [rway].[Справочник].[ПодСегменты] t_podseg WHERE t_podseg.Ссылка = t.Значение),\n",
    "            (SELECT Наименование FROM [rway].[Справочник].[Застройщики] t_zastr WHERE t_zastr.Ссылка = t.Значение),\n",
    "            (SELECT Наименование FROM [rway].[Справочник].[ОстановкиОбщественногоТранспорта] t_stations WHERE t_stations.Ссылка = t.Значение)                  \n",
    "        )\n",
    "    END\n",
    "        AS Значение,\n",
    "    t.Объект AS Ссылка\n",
    "FROM [rway].[РегистрСведений].[ЗначенияХарактеристик] t\n",
    "    INNER JOIN [rway].[ПВХ].[Характеристики] t_har\n",
    "        ON t_har.[Ссылка] = t.[Характеристика]\n",
    "    INNER JOIN [rway].[РегистрСведений].[ПредложенияЗадач] reg_task\n",
    "        ON reg_task.Предложение = t.Объект\n",
    "        AND reg_task.Задача in (\n",
    "            SELECT\n",
    "                task._IDRRef AS Ссылка\n",
    "            FROM [rway].[dbo].[_Task62] task\n",
    "            JOIN [rway].[Документ].[Задание] tasks\n",
    "                ON task._Fld192RRef = tasks.Ссылка\n",
    "            JOIN [rway].[Справочник].[ТипыЗадач] types\n",
    "                ON types.Ссылка = task._Fld231RRef AND types.Наименование = 'Импорт'\n",
    "            WHERE tasks.КодЗадания = '{}')\n",
    "    '''.format(task_id)\n",
    "    \n",
    "    cursor.execute(query)\n",
    "#     data_df = pd.read_sql(sql=query, con=conn)\n",
    "\n",
    "    # Преобразование данных, которые вернул запрос в список списков, одновременно все байты преобразуются в hex\n",
    "    data = list(map(lambda x: list(x), cursor.fetchall()))\n",
    "    data_df = pd.DataFrame(data, columns=list(map(lambda x: x[0], cursor.description)))\n",
    "    # Создание словаря для DataFrame\n",
    "    return data_df.pivot(index='Ссылка', columns='Наименование', values='Значение')\n",
    "\n",
    "    "
   ]
  },
  {
   "cell_type": "markdown",
   "metadata": {},
   "source": [
    "Функция позволяет получить все предложения по конкретному заданию. Задание указывается в виде строки id задания.\n",
    "\n",
    "Например, `'0001-0405'`"
   ]
  },
  {
   "cell_type": "code",
   "execution_count": 7,
   "metadata": {},
   "outputs": [],
   "source": [
    "@benchmark\n",
    "def get_base_info_by_task_id(task_id, offers_count=None):\n",
    "    \"\"\"\n",
    "    :param task_id: id задания\n",
    "    :param offers_count: Количество предложений для выбора из базы (пустое для выбора всех предложений)\n",
    "    :type task_id: str\n",
    "    :return: DataFrame, содержащий все поля, которые можно получить из таблицы \"ПредложенияЗадач\"\n",
    "    \"\"\"\n",
    "    \n",
    "    # Запрос к дате задания\n",
    "    date = cursor.execute(\"SELECT Дата FROM [rway].[Документ].[Задание] WHERE КодЗадания = '{}'\".format(task_id)).fetchone()\n",
    "    \n",
    "    top = '' if not offers_count else 'TOP {}'.format(offers_count)\n",
    "    query = '''\n",
    "    SELECT {top}\n",
    "          t.Код,\n",
    "          t.Ссылка,\n",
    "          t_task._Fld198 AS КодЗадачи,\n",
    "          t_source.Наименование AS Источник,\n",
    "          t.АдресAhunter,\n",
    "          t.АктуальнаяСсылкаИсточника,\n",
    "          t.ДатаПересмотраЭкспозиции,\n",
    "          t.ДатаПроверкиАктуальности,\n",
    "          t.ДатаРазмещения,\n",
    "          t.Город,\n",
    "          t.Описание,\n",
    "          (SELECT Наименование FROM [rway].[Справочник].[Подсегменты] WHERE Ссылка = t.Подсегмент) AS Подсегмент,\n",
    "          (SELECT Наименование FROM [rway].[Справочник].[Сегменты] WHERE Ссылка = t.Сегмент) AS Сегмент,\n",
    "          (SELECT Наименование FROM [rway].[Справочник].[СубъектыРФ] WHERE Ссылка = t.Субъект) AS Субъект,\n",
    "          t.СсылкаИсточника,\n",
    "          (SELECT Значение FROM [rway].[Перечисление].[ТипыРынка] WHERE Ссылка = t.ТипРынка) AS ТипРынка,\n",
    "          (SELECT Значение FROM [rway].[Перечисление].[ТипыСделки] WHERE Ссылка = t.ТипСделки) AS ТипСделки\n",
    "    FROM [rway].[Справочник].[ПредложенияОбъектовНедвижимости] t\n",
    "        JOIN [rway].[РегистрСведений].[ПредложенияЗадач] t_offer\n",
    "            ON Ссылка = t_offer.[Предложение]\n",
    "        JOIN [rway].[dbo].[_Task62] t_task\n",
    "            ON t_task.[_IDRRef] = t_offer.[Задача] AND t_task.[_IDRRef] in (\n",
    "            SELECT\n",
    "                task._IDRRef AS Ссылка\n",
    "            FROM [rway].[dbo].[_Task62] task\n",
    "            JOIN [rway].[Документ].[Задание] tasks\n",
    "                ON task._Fld192RRef = tasks.Ссылка\n",
    "            JOIN [rway].[Справочник].[ТипыЗадач] types\n",
    "                ON types.Ссылка = task._Fld231RRef AND types.Наименование = 'Импорт'\n",
    "            WHERE tasks.КодЗадания = '{task_id}')\n",
    "        JOIN [rway].[Справочник].[Источники] t_source\n",
    "            ON t_source.Ссылка = ИсточникИнформации\n",
    "\n",
    "    '''.format(top=top, task_id=task_id)\n",
    "    \n",
    "    cursor.execute(query)    \n",
    "    data = cursor.fetchall()\n",
    "    # Те же самые преобрзования, как в функции с характеристиками\n",
    "    df = pd.DataFrame(map(lambda x: list(x), data))\n",
    "    df.columns = list(map(lambda x: x[0].replace('.', '_'), cursor.description))\n",
    "    df['КодЗадания'] = task_id\n",
    "    df['ДатаЗадания'] = date[0]\n",
    "#     df = pd.read_sql(sql=query, con=conn)\n",
    "    return df\n",
    "    "
   ]
  },
  {
   "cell_type": "markdown",
   "metadata": {},
   "source": [
    "# Боевой запуск\n",
    "Здесь необходимо указать код задания, по которому будет происходить сбор данных."
   ]
  },
  {
   "cell_type": "code",
   "execution_count": 8,
   "metadata": {},
   "outputs": [],
   "source": [
    "task_id = '0001-0405'"
   ]
  },
  {
   "cell_type": "code",
   "execution_count": 9,
   "metadata": {
    "scrolled": true
   },
   "outputs": [
    {
     "ename": "KeyboardInterrupt",
     "evalue": "",
     "output_type": "error",
     "traceback": [
      "\u001b[1;31m---------------------------------------------------------------------------\u001b[0m",
      "\u001b[1;31mKeyboardInterrupt\u001b[0m                         Traceback (most recent call last)",
      "\u001b[1;32m<ipython-input-9-5404611b35c6>\u001b[0m in \u001b[0;36m<module>\u001b[1;34m\u001b[0m\n\u001b[0;32m      1\u001b[0m \u001b[1;31m# Сбор основных данных из \"ПредложенияОбъектовНедвижимости\"\u001b[0m\u001b[1;33m\u001b[0m\u001b[1;33m\u001b[0m\u001b[1;33m\u001b[0m\u001b[0m\n\u001b[1;32m----> 2\u001b[1;33m \u001b[0mbase_df\u001b[0m \u001b[1;33m=\u001b[0m \u001b[0mget_base_info_by_task_id\u001b[0m\u001b[1;33m(\u001b[0m\u001b[0mtask_id\u001b[0m\u001b[1;33m)\u001b[0m\u001b[1;33m\u001b[0m\u001b[1;33m\u001b[0m\u001b[0m\n\u001b[0m",
      "\u001b[1;32m<ipython-input-5-36fbf6a4f6ee>\u001b[0m in \u001b[0;36mwrapper\u001b[1;34m(*args, **kwargs)\u001b[0m\n\u001b[0;32m      8\u001b[0m     \u001b[1;32mdef\u001b[0m \u001b[0mwrapper\u001b[0m\u001b[1;33m(\u001b[0m\u001b[1;33m*\u001b[0m\u001b[0margs\u001b[0m\u001b[1;33m,\u001b[0m \u001b[1;33m**\u001b[0m\u001b[0mkwargs\u001b[0m\u001b[1;33m)\u001b[0m\u001b[1;33m:\u001b[0m\u001b[1;33m\u001b[0m\u001b[1;33m\u001b[0m\u001b[0m\n\u001b[0;32m      9\u001b[0m         \u001b[0mt\u001b[0m \u001b[1;33m=\u001b[0m \u001b[0mtime\u001b[0m\u001b[1;33m.\u001b[0m\u001b[0mtime\u001b[0m\u001b[1;33m(\u001b[0m\u001b[1;33m)\u001b[0m\u001b[1;33m\u001b[0m\u001b[1;33m\u001b[0m\u001b[0m\n\u001b[1;32m---> 10\u001b[1;33m         \u001b[0mres\u001b[0m \u001b[1;33m=\u001b[0m \u001b[0mfunc\u001b[0m\u001b[1;33m(\u001b[0m\u001b[1;33m*\u001b[0m\u001b[0margs\u001b[0m\u001b[1;33m,\u001b[0m \u001b[1;33m**\u001b[0m\u001b[0mkwargs\u001b[0m\u001b[1;33m)\u001b[0m\u001b[1;33m\u001b[0m\u001b[1;33m\u001b[0m\u001b[0m\n\u001b[0m\u001b[0;32m     11\u001b[0m         \u001b[0mprint\u001b[0m\u001b[1;33m(\u001b[0m\u001b[1;34mf'{func.__name__} выполнилась за время {time.time() - t:.2f}s'\u001b[0m\u001b[1;33m)\u001b[0m\u001b[1;33m\u001b[0m\u001b[1;33m\u001b[0m\u001b[0m\n\u001b[0;32m     12\u001b[0m         \u001b[1;32mreturn\u001b[0m \u001b[0mres\u001b[0m\u001b[1;33m\u001b[0m\u001b[1;33m\u001b[0m\u001b[0m\n",
      "\u001b[1;32m<ipython-input-7-e5ffdc249e41>\u001b[0m in \u001b[0;36mget_base_info_by_task_id\u001b[1;34m(task_id, offers_count)\u001b[0m\n\u001b[0;32m     49\u001b[0m     '''.format(top=top, task_id=task_id)\n\u001b[0;32m     50\u001b[0m \u001b[1;33m\u001b[0m\u001b[0m\n\u001b[1;32m---> 51\u001b[1;33m     \u001b[0mcursor\u001b[0m\u001b[1;33m.\u001b[0m\u001b[0mexecute\u001b[0m\u001b[1;33m(\u001b[0m\u001b[0mquery\u001b[0m\u001b[1;33m)\u001b[0m\u001b[1;33m\u001b[0m\u001b[1;33m\u001b[0m\u001b[0m\n\u001b[0m\u001b[0;32m     52\u001b[0m     \u001b[0mdata\u001b[0m \u001b[1;33m=\u001b[0m \u001b[0mcursor\u001b[0m\u001b[1;33m.\u001b[0m\u001b[0mfetchall\u001b[0m\u001b[1;33m(\u001b[0m\u001b[1;33m)\u001b[0m\u001b[1;33m\u001b[0m\u001b[1;33m\u001b[0m\u001b[0m\n\u001b[0;32m     53\u001b[0m     \u001b[1;31m# Те же самые преобрзования, как в функции с характеристиками\u001b[0m\u001b[1;33m\u001b[0m\u001b[1;33m\u001b[0m\u001b[1;33m\u001b[0m\u001b[0m\n",
      "\u001b[1;31mKeyboardInterrupt\u001b[0m: "
     ]
    }
   ],
   "source": [
    "# Сбор основных данных из \"ПредложенияОбъектовНедвижимости\"\n",
    "base_df = get_base_info_by_task_id(task_id)"
   ]
  },
  {
   "cell_type": "markdown",
   "metadata": {},
   "source": [
    "Вывести таблицу с базовыми характеристиками"
   ]
  },
  {
   "cell_type": "code",
   "execution_count": null,
   "metadata": {
    "scrolled": true
   },
   "outputs": [],
   "source": [
    "base_df"
   ]
  },
  {
   "cell_type": "markdown",
   "metadata": {},
   "source": [
    "Сбор характеристик по ссылкам из основного DataFrame base_df"
   ]
  },
  {
   "cell_type": "code",
   "execution_count": null,
   "metadata": {},
   "outputs": [],
   "source": [
    "har_df = get_harks_by_object_keys(task_id)"
   ]
  },
  {
   "cell_type": "markdown",
   "metadata": {},
   "source": [
    "Вывести таблицу со значениями харакетристик из ПВХ."
   ]
  },
  {
   "cell_type": "code",
   "execution_count": null,
   "metadata": {
    "scrolled": true
   },
   "outputs": [],
   "source": [
    "har_df"
   ]
  },
  {
   "cell_type": "markdown",
   "metadata": {},
   "source": [
    "Собираем обе таблицы в одну большую"
   ]
  },
  {
   "cell_type": "code",
   "execution_count": null,
   "metadata": {},
   "outputs": [],
   "source": [
    "result_df = pd.merge(base_df, har_df, on='Ссылка', how='left')"
   ]
  },
  {
   "cell_type": "code",
   "execution_count": null,
   "metadata": {},
   "outputs": [],
   "source": [
    "result_df"
   ]
  },
  {
   "cell_type": "markdown",
   "metadata": {},
   "source": [
    "Функция, в которой и происходит тестирование."
   ]
  },
  {
   "cell_type": "code",
   "execution_count": null,
   "metadata": {},
   "outputs": [],
   "source": [
    "@benchmark\n",
    "def make_test():\n",
    "    new_df = pd.DataFrame(columns=set(result_df.loc[:, 'Источник']), index=list(result_df.columns.fillna(0)) + ['Всего'])\n",
    "    nan = float('nan')\n",
    "    for source in set(result_df['Источник']):\n",
    "        filtered = result_df[result_df['Источник'] == source]\n",
    "        new_df.loc['Всего', source] = len(filtered)\n",
    "        count_s = filtered.replace('', nan).replace('НетДанных', nan).replace('0.000000', nan).count()\n",
    "        for k, v in count_s.items():\n",
    "            new_df.loc[k, source] = v * 100 / new_df.loc['Всего', source]\n",
    "        new_df.loc['КодЗадания', source] = list(filtered['КодЗадания'])[0]\n",
    "        new_df.loc['КодЗадачи', source] = list(filtered['КодЗадачи'])[0]\n",
    "    new_df.loc['ДатаЗадания'] = list(filtered['ДатаЗадания'])[0]\n",
    "    new_df = new_df.T\n",
    "\n",
    "    return new_df"
   ]
  },
  {
   "cell_type": "code",
   "execution_count": null,
   "metadata": {},
   "outputs": [],
   "source": [
    "test = make_test()"
   ]
  },
  {
   "cell_type": "markdown",
   "metadata": {},
   "source": [
    "Вывести на экран таблицу с результатами теста"
   ]
  },
  {
   "cell_type": "code",
   "execution_count": null,
   "metadata": {},
   "outputs": [],
   "source": [
    "test"
   ]
  },
  {
   "cell_type": "markdown",
   "metadata": {},
   "source": [
    "Выгрузка данных в `csv` файл для удобного просмотра в Excel"
   ]
  },
  {
   "cell_type": "code",
   "execution_count": null,
   "metadata": {
    "scrolled": true
   },
   "outputs": [],
   "source": [
    "# test.to_csv('test_result.csv', header=list(test.columns), encoding='cp1251', sep=';')\n",
    "test.columns = list(map(lambda x: x.replace('(', '_').replace(')', '_').replace('.', '_').replace(' ', '_'), test.columns))"
   ]
  },
  {
   "cell_type": "markdown",
   "metadata": {},
   "source": [
    "Запись результатов теста в базу"
   ]
  },
  {
   "cell_type": "code",
   "execution_count": null,
   "metadata": {},
   "outputs": [],
   "source": [
    "test.to_sql('fill_rate', con=engine, if_exists='append')"
   ]
  }
 ],
 "metadata": {
  "kernelspec": {
   "display_name": "Python 3",
   "language": "python",
   "name": "python3"
  },
  "language_info": {
   "codemirror_mode": {
    "name": "ipython",
    "version": 3
   },
   "file_extension": ".py",
   "mimetype": "text/x-python",
   "name": "python",
   "nbconvert_exporter": "python",
   "pygments_lexer": "ipython3",
   "version": "3.7.3"
  }
 },
 "nbformat": 4,
 "nbformat_minor": 2
}
